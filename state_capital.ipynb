{
 "cells": [
  {
   "cell_type": "markdown",
   "metadata": {},
   "source": [
    "## Class-Work 4"
   ]
  },
  {
   "cell_type": "markdown",
   "metadata": {},
   "source": [
    "Save the state and capital of Nigeria in a DICTIONARY and Create a Quiz in any format.\n",
    "The quiz should contain different 20 questions for each email\n",
    "Attach the files and send it to all the emails on the student csv file\n",
    "The first document would contain the question and the other document would contain the answers."
   ]
  },
  {
   "cell_type": "code",
   "execution_count": 1,
   "metadata": {},
   "outputs": [],
   "source": [
    "from bs4 import BeautifulSoup\n",
    "import requests\n",
    "import random\n",
    "import docx\n",
    "import pandas as pd\n",
    "import smtplib\n",
    "import os\n",
    "from email.message import EmailMessage\n",
    "import datetime"
   ]
  },
  {
   "cell_type": "code",
   "execution_count": 2,
   "metadata": {},
   "outputs": [],
   "source": [
    "#Webscrapping for names of states in Nigeria and their capitals \n",
    "url = requests.get('https://en.wikipedia.org/wiki/List_of_capitals_of_states_of_Nigeria','lxml')\n",
    "soup = BeautifulSoup(url.text)\n",
    "state_list = []\n",
    "capital_list = []\n",
    "for x in range(0,72,2):\n",
    "    state_list.append(soup.findAll('table',class_='wikitable')[0].findAll('td')[x].findAll('a')[0].text)\n",
    "    #print(state)\n",
    "for y in range(1,73,2):\n",
    "    capital_list.append(soup.findAll('table',class_='wikitable')[0].findAll('td')[y].findAll('a')[0].text)\n",
    "    #print(capital)"
   ]
  },
  {
   "cell_type": "code",
   "execution_count": 3,
   "metadata": {},
   "outputs": [],
   "source": [
    "state_capital = dict(zip(state_list,capital_list))\n",
    "student_data = pd.read_csv('Students_contact.csv')"
   ]
  },
  {
   "cell_type": "code",
   "execution_count": 4,
   "metadata": {},
   "outputs": [
    {
     "data": {
      "text/html": [
       "<div>\n",
       "<style scoped>\n",
       "    .dataframe tbody tr th:only-of-type {\n",
       "        vertical-align: middle;\n",
       "    }\n",
       "\n",
       "    .dataframe tbody tr th {\n",
       "        vertical-align: top;\n",
       "    }\n",
       "\n",
       "    .dataframe thead th {\n",
       "        text-align: right;\n",
       "    }\n",
       "</style>\n",
       "<table border=\"1\" class=\"dataframe\">\n",
       "  <thead>\n",
       "    <tr style=\"text-align: right;\">\n",
       "      <th></th>\n",
       "      <th>NAME</th>\n",
       "      <th>EMAIL</th>\n",
       "      <th>PRESENTER</th>\n",
       "    </tr>\n",
       "  </thead>\n",
       "  <tbody>\n",
       "    <tr>\n",
       "      <th>0</th>\n",
       "      <td>James Ekene</td>\n",
       "      <td>jamesekene8@gmail.com</td>\n",
       "      <td>Yes</td>\n",
       "    </tr>\n",
       "    <tr>\n",
       "      <th>1</th>\n",
       "      <td>Olubayode Ebenezer</td>\n",
       "      <td>olubayodeeben@yahoo.com</td>\n",
       "      <td>NaN</td>\n",
       "    </tr>\n",
       "    <tr>\n",
       "      <th>2</th>\n",
       "      <td>Nnorom Amaka</td>\n",
       "      <td>helloamaka@gmail.com</td>\n",
       "      <td>Yes</td>\n",
       "    </tr>\n",
       "    <tr>\n",
       "      <th>3</th>\n",
       "      <td>Adewumi Mayowa</td>\n",
       "      <td>mayowabammy@gmail.com</td>\n",
       "      <td>NaN</td>\n",
       "    </tr>\n",
       "    <tr>\n",
       "      <th>4</th>\n",
       "      <td>Aminat Akinyemi</td>\n",
       "      <td>aaebunoluwa@gmail.com</td>\n",
       "      <td>NaN</td>\n",
       "    </tr>\n",
       "    <tr>\n",
       "      <th>5</th>\n",
       "      <td>Aminat Ayoola</td>\n",
       "      <td>TripleAEbun@gmail.com</td>\n",
       "      <td>Yes</td>\n",
       "    </tr>\n",
       "  </tbody>\n",
       "</table>\n",
       "</div>"
      ],
      "text/plain": [
       "                 NAME                    EMAIL PRESENTER\n",
       "0         James Ekene    jamesekene8@gmail.com       Yes\n",
       "1  Olubayode Ebenezer  olubayodeeben@yahoo.com       NaN\n",
       "2        Nnorom Amaka     helloamaka@gmail.com       Yes\n",
       "3      Adewumi Mayowa    mayowabammy@gmail.com       NaN\n",
       "4     Aminat Akinyemi    aaebunoluwa@gmail.com       NaN\n",
       "5       Aminat Ayoola    TripleAEbun@gmail.com       Yes"
      ]
     },
     "execution_count": 4,
     "metadata": {},
     "output_type": "execute_result"
    }
   ],
   "source": [
    "student_data"
   ]
  },
  {
   "cell_type": "code",
   "execution_count": 5,
   "metadata": {},
   "outputs": [],
   "source": [
    "username = os.environ.get('email_user')\n",
    "user_password = os.environ.get('user_pass')\n",
    "#print(username,user_password)\n",
    "with smtplib.SMTP_SSL('smtp.gmail.com', 465) as smtp:\n",
    "    smtp.login(username, user_password)"
   ]
  },
  {
   "cell_type": "code",
   "execution_count": 14,
   "metadata": {},
   "outputs": [],
   "source": [
    "for row in student_data.itertuples(index=True, name='Pandas'):\n",
    "    doc = docx.Document()\n",
    "    doc2 = docx.Document()\n",
    "    state = random.sample(list(state_capital.keys()),20)\n",
    "    #print(state)\n",
    "    cap_value = dict()\n",
    "    for each_state in state:\n",
    "        cap_value.update({each_state:state_capital[each_state]})\n",
    "    doc.add_paragraph(f'Name: {row.NAME}')\n",
    "    doc2.add_paragraph('Ansers')\n",
    "    for index,state_keys in enumerate(cap_value.keys(),1):\n",
    "        doc.add_paragraph('Question')\n",
    "        doc.add_paragraph(f'{index}. What is the capital of {state_keys}')\n",
    "        answer = cap_value[state_keys]\n",
    "        answer_list = [answer]\n",
    "        doc2.add_paragraph(f'{index}. {answer}')\n",
    "        wrong_ans = random.sample(list(state_capital.values()),3)\n",
    "        answer_update = answer_list + wrong_ans\n",
    "        while len(set(answer_update)) < 4:\n",
    "            one_wrong = random.sample(list(state_capital.values()),1)\n",
    "            if answer in one_wrong:\n",
    "                continue\n",
    "            else:\n",
    "                ans = one_wrong + list(set(answer_update))\n",
    "                break\n",
    "        else:\n",
    "            ans = answer_update\n",
    "        random.shuffle(ans)\n",
    "        #print(ans)\n",
    "        option_list = ['A.)','B.)','C.)','D.)']\n",
    "        option_update = list(zip(option_list,answer_update))\n",
    "        #print(option_update)\n",
    "        for x,y in option_update:\n",
    "            quest = (x,' ',y)\n",
    "            doc.add_paragraph(quest)\n",
    "        doc.add_paragraph('\\n')\n",
    "    doc.save('Questions.docx')\n",
    "    doc2.save('Answers.docx')\n",
    "    msg = EmailMessage()\n",
    "    msg['From'] = username\n",
    "    msg['To'] = row.EMAIL\n",
    "    msg['Reply-to'] = username\n",
    "    msg['Subject'] = 'General Questions'\n",
    "    msg.set_content(f'Hi {row.NAME},\\nPlease find the attached document and answer the following questions')\n",
    "    with open('Questions.docx','rb') as f:\n",
    "        content = f.read()\n",
    "        name = f.name\n",
    "    msg.add_attachment(content, maintype = 'application', subtype = 'msword', filename = name)\n",
    "    with open('Answers.docx','rb') as f:\n",
    "        content = f.read()\n",
    "        name = f.name\n",
    "    msg.add_attachment(content, maintype = 'application', subtype = 'msword', filename = name)\n",
    "    \n",
    "  \n",
    "    with smtplib.SMTP_SSL('smtp.gmail.com', 465) as smtp:\n",
    "        smtp.login(username, user_password)\n",
    "        smtp.send_message(msg)\n"
   ]
  },
  {
   "cell_type": "code",
   "execution_count": null,
   "metadata": {},
   "outputs": [],
   "source": []
  }
 ],
 "metadata": {
  "kernelspec": {
   "display_name": "Python 3",
   "language": "python",
   "name": "python3"
  },
  "language_info": {
   "codemirror_mode": {
    "name": "ipython",
    "version": 3
   },
   "file_extension": ".py",
   "mimetype": "text/x-python",
   "name": "python",
   "nbconvert_exporter": "python",
   "pygments_lexer": "ipython3",
   "version": "3.8.0"
  }
 },
 "nbformat": 4,
 "nbformat_minor": 4
}
